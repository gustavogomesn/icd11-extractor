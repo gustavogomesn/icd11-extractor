{
 "cells": [
  {
   "cell_type": "code",
   "execution_count": 1,
   "id": "5fe9a3b2-2d46-42b3-aa3b-1389d4f09e99",
   "metadata": {},
   "outputs": [],
   "source": [
    "import pandas as pd\n",
    "from translate import Translator\n",
    "import re\n",
    "import json\n",
    "# Ler arquivo utils para entender de onde os dados são buscados\n",
    "from utils import FetchCID"
   ]
  },
  {
   "cell_type": "code",
   "execution_count": 2,
   "id": "c8788437-788b-4969-ab0b-bbc73156cad9",
   "metadata": {},
   "outputs": [],
   "source": [
    "df = pd.read_excel('src/SimpleTabulation-ICD-11-MMS-pt.xlsx')"
   ]
  },
  {
   "cell_type": "code",
   "execution_count": 3,
   "id": "60da7ed1-20b0-4c21-bacd-d367ab8177bb",
   "metadata": {},
   "outputs": [],
   "source": [
    "df = df[['Code', 'Title', 'TitleEN', 'Foundation URI']]"
   ]
  },
  {
   "cell_type": "code",
   "execution_count": 4,
   "id": "f51f5bc9-4128-4597-86a2-4f6bf7f84619",
   "metadata": {},
   "outputs": [
    {
     "data": {
      "text/html": [
       "<div>\n",
       "<style scoped>\n",
       "    .dataframe tbody tr th:only-of-type {\n",
       "        vertical-align: middle;\n",
       "    }\n",
       "\n",
       "    .dataframe tbody tr th {\n",
       "        vertical-align: top;\n",
       "    }\n",
       "\n",
       "    .dataframe thead th {\n",
       "        text-align: right;\n",
       "    }\n",
       "</style>\n",
       "<table border=\"1\" class=\"dataframe\">\n",
       "  <thead>\n",
       "    <tr style=\"text-align: right;\">\n",
       "      <th></th>\n",
       "      <th>Code</th>\n",
       "      <th>Title</th>\n",
       "      <th>TitleEN</th>\n",
       "      <th>Foundation URI</th>\n",
       "    </tr>\n",
       "  </thead>\n",
       "  <tbody>\n",
       "    <tr>\n",
       "      <th>0</th>\n",
       "      <td>NaN</td>\n",
       "      <td>Algumas doenças infecciosas ou parasitárias</td>\n",
       "      <td>Certain infectious or parasitic diseases</td>\n",
       "      <td>http://id.who.int/icd/entity/1435254666</td>\n",
       "    </tr>\n",
       "    <tr>\n",
       "      <th>1</th>\n",
       "      <td>NaN</td>\n",
       "      <td>- Gastroenterites ou colites de origem infecciosa</td>\n",
       "      <td>- Gastroenteritis or colitis of infectious origin</td>\n",
       "      <td>http://id.who.int/icd/entity/588616678</td>\n",
       "    </tr>\n",
       "    <tr>\n",
       "      <th>2</th>\n",
       "      <td>NaN</td>\n",
       "      <td>- - Infecções intestinais bacterianas</td>\n",
       "      <td>- - Bacterial intestinal infections</td>\n",
       "      <td>http://id.who.int/icd/entity/135352227</td>\n",
       "    </tr>\n",
       "    <tr>\n",
       "      <th>3</th>\n",
       "      <td>1A00</td>\n",
       "      <td>- - - Cólera</td>\n",
       "      <td>- - - Cholera</td>\n",
       "      <td>http://id.who.int/icd/entity/257068234</td>\n",
       "    </tr>\n",
       "    <tr>\n",
       "      <th>4</th>\n",
       "      <td>1A01</td>\n",
       "      <td>- - - Infecção intestinal por outras bactérias...</td>\n",
       "      <td>- - - Intestinal infection due to other Vibrio</td>\n",
       "      <td>http://id.who.int/icd/entity/416025325</td>\n",
       "    </tr>\n",
       "  </tbody>\n",
       "</table>\n",
       "</div>"
      ],
      "text/plain": [
       "   Code                                              Title  \\\n",
       "0   NaN        Algumas doenças infecciosas ou parasitárias   \n",
       "1   NaN  - Gastroenterites ou colites de origem infecciosa   \n",
       "2   NaN              - - Infecções intestinais bacterianas   \n",
       "3  1A00                                       - - - Cólera   \n",
       "4  1A01  - - - Infecção intestinal por outras bactérias...   \n",
       "\n",
       "                                             TitleEN  \\\n",
       "0           Certain infectious or parasitic diseases   \n",
       "1  - Gastroenteritis or colitis of infectious origin   \n",
       "2                - - Bacterial intestinal infections   \n",
       "3                                      - - - Cholera   \n",
       "4     - - - Intestinal infection due to other Vibrio   \n",
       "\n",
       "                            Foundation URI  \n",
       "0  http://id.who.int/icd/entity/1435254666  \n",
       "1   http://id.who.int/icd/entity/588616678  \n",
       "2   http://id.who.int/icd/entity/135352227  \n",
       "3   http://id.who.int/icd/entity/257068234  \n",
       "4   http://id.who.int/icd/entity/416025325  "
      ]
     },
     "execution_count": 4,
     "metadata": {},
     "output_type": "execute_result"
    }
   ],
   "source": [
    "df.head()"
   ]
  },
  {
   "cell_type": "markdown",
   "id": "3374c90b-0adf-4307-be55-a22f48cb1a63",
   "metadata": {},
   "source": [
    "### Verificado que vários items não possuiam tradução para o português, iremos traduzir o texto da coluna TitleEN"
   ]
  },
  {
   "cell_type": "code",
   "execution_count": 5,
   "id": "e6f0a77e-6e9e-4d0b-affd-33d1ea76ce1f",
   "metadata": {},
   "outputs": [],
   "source": [
    "translator= Translator(to_lang=\"pt-BR\")\n",
    "def translate_title(item):\n",
    "    # Sentença que verifica valores NaN\n",
    "    if item.Title != item.Title:\n",
    "        item.Title = translator.translate(item.TitleEN)\n",
    "    return item\n",
    "\n",
    "df = df.apply(translate_title, axis=1)"
   ]
  },
  {
   "cell_type": "markdown",
   "id": "10fa319b-87ae-482b-8f40-117caa9522c3",
   "metadata": {},
   "source": [
    "### Funções auxiliares"
   ]
  },
  {
   "cell_type": "code",
   "execution_count": 6,
   "id": "a050ceb1-0834-42e4-9b18-2ba4e07579ef",
   "metadata": {},
   "outputs": [],
   "source": [
    "def delete_hyphens(text):\n",
    "    return re.sub(r\"^[-\\s]+\", \"\", text).strip()\n",
    "\n",
    "# Evitar contar hifens entre as palavras\n",
    "def count_leading_hyphens(text):\n",
    "    match = re.match(r\"^([- ]+)\", text)\n",
    "    \n",
    "    if match:\n",
    "        return match.group(0).count('-')\n",
    "    return 0"
   ]
  },
  {
   "cell_type": "markdown",
   "id": "996bfe9f-3001-4d15-98aa-547110d0b765",
   "metadata": {},
   "source": [
    "### Criado coluna \"level\"\n",
    "Nesta coluna será armazenado a hierarquia dos códigos  \n",
    "\n",
    "**EX:**  \n",
    "Algumas doenças infecciosas ou parasitárias - Level 1  \n",
    "    Gastroenterites ou colites de origem infecciosa - Level 1.1 (É o primeiro elemento filho do elemento pai 1)  \n",
    "    Infecções intestinais bacterianas \t- Level 1.2 (É o segundo elemento filho do elemento pai 1)  "
   ]
  },
  {
   "cell_type": "code",
   "execution_count": 7,
   "id": "4f98a624-d6bf-4a3a-a796-881f01a78899",
   "metadata": {},
   "outputs": [],
   "source": [
    "hyphens = 0\n",
    "current_level = []\n",
    "current_leaf = 0\n",
    "\n",
    "def level(title):\n",
    "    global hyphens, current_level, current_leaf\n",
    "    if count_leading_hyphens(title) == hyphens:\n",
    "        if hyphens == 0:\n",
    "            current_level.append(current_leaf)\n",
    "        current_leaf += 1\n",
    "        current_level[-1] = current_leaf\n",
    "        return '.'.join([str(x) for x in current_level])\n",
    "    if count_leading_hyphens(title) > hyphens:\n",
    "        hyphens = count_leading_hyphens(title)\n",
    "        current_leaf = 1\n",
    "        current_level.append(current_leaf)\n",
    "        return '.'.join([str(x) for x in current_level])\n",
    "    if count_leading_hyphens(title) < hyphens:\n",
    "        aux = count_leading_hyphens(title) - hyphens\n",
    "        current_level = current_level[:aux]\n",
    "        current_level[-1] += 1\n",
    "        current_leaf = current_level[-1]\n",
    "        hyphens = count_leading_hyphens(title)\n",
    "        return '.'.join([str(x) for x in current_level])\n",
    "\n",
    "df['level'] = df['Title'].apply(level)\n"
   ]
  },
  {
   "cell_type": "markdown",
   "id": "5e392d84-4519-4954-96ee-f096ca22e3a0",
   "metadata": {},
   "source": [
    "### Criando dicionário com hierarquia aplicada\n",
    "\n",
    "Cada elemento pai é uma chave e seus filhos são subchaves do mesmo, assim sucessivamente"
   ]
  },
  {
   "cell_type": "code",
   "execution_count": 8,
   "id": "728d88c0-482a-46ec-8760-1c24b1d43ec5",
   "metadata": {},
   "outputs": [
    {
     "data": {
      "text/plain": [
       "0        None\n",
       "1        None\n",
       "2        None\n",
       "3        None\n",
       "4        None\n",
       "         ... \n",
       "36039    None\n",
       "36040    None\n",
       "36041    None\n",
       "36042    None\n",
       "36043    None\n",
       "Length: 36044, dtype: object"
      ]
     },
     "execution_count": 8,
     "metadata": {},
     "output_type": "execute_result"
    }
   ],
   "source": [
    "icd_dict = {}\n",
    "title_level_map = dict(zip(df['level'], df['Title']))\n",
    "code_level_map = dict(zip(df['level'], df['Code']))\n",
    "\n",
    "fetch_cid = FetchCID()\n",
    "\n",
    "def create_dict(item):\n",
    "    list_level = item.level.split('.')\n",
    "    str_levels = []\n",
    "    for l in range(len(list_level)-1):\n",
    "        str_levels.append('.'.join(list_level[:-(l+1)]))\n",
    "        \n",
    "    if len(list_level) == 1:\n",
    "        key_name = item.Title\n",
    "        icd_dict.update({key_name: {\n",
    "            \"cid\": item.Code,\n",
    "            \"description\": fetch_cid.get_description(item['Foundation URI']),\n",
    "            \"subitens\": {}\n",
    "        }})\n",
    "    if len(list_level) > 1:\n",
    "        last_node = icd_dict\n",
    "        for node in str_levels[::-1]:\n",
    "            node_name = delete_hyphens(title_level_map[node])\n",
    "            last_node = last_node[node_name]['subitens']\n",
    "\n",
    "        key_name = delete_hyphens(item.Title)\n",
    "        last_node.update({key_name: {\n",
    "            \"cid\": item.Code,\n",
    "            \"description\": fetch_cid.get_description(item['Foundation URI']),\n",
    "            \"subitens\": {}\n",
    "        }})      \n",
    "\n",
    "df.apply(create_dict, axis=1)"
   ]
  },
  {
   "cell_type": "markdown",
   "id": "749d46a3-f091-4b1e-94a2-923262cf5187",
   "metadata": {},
   "source": [
    "### Transformando dicionário em arquivo .json"
   ]
  },
  {
   "cell_type": "code",
   "execution_count": 9,
   "id": "506c34ea-5747-4e82-bd56-6c7d5769af07",
   "metadata": {},
   "outputs": [],
   "source": [
    "str_data = json.dumps(icd_dict, ensure_ascii=False)\n",
    "j = json.loads(str_data)\n",
    "with open('data.json', 'w', encoding='utf-8') as file:\n",
    "    file.write(str_data)"
   ]
  }
 ],
 "metadata": {
  "kernelspec": {
   "display_name": "Python 3 (ipykernel)",
   "language": "python",
   "name": "python3"
  },
  "language_info": {
   "codemirror_mode": {
    "name": "ipython",
    "version": 3
   },
   "file_extension": ".py",
   "mimetype": "text/x-python",
   "name": "python",
   "nbconvert_exporter": "python",
   "pygments_lexer": "ipython3",
   "version": "3.10.12"
  }
 },
 "nbformat": 4,
 "nbformat_minor": 5
}
